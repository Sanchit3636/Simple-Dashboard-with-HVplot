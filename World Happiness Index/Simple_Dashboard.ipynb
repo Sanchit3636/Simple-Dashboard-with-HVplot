{
 "cells": [
  {
   "cell_type": "code",
   "execution_count": 21,
   "id": "a080adea-827c-4509-a0c2-702d30564403",
   "metadata": {},
   "outputs": [],
   "source": [
    "import pandas as pd\n",
    "import numpy as np\n",
    "import panel as pn\n",
    "import hvplot.pandas\n",
    "\n",
    "# Load your World Happiness Index data\n",
    "df = pd.read_csv('World Happiness Report.csv')\n",
    "\n",
    "# Ensure columns are appropriately formatted (e.g., remove spaces)\n",
    "df.columns = df.columns.str.strip()\n"
   ]
  },
  {
   "cell_type": "code",
   "execution_count": 22,
   "id": "59c3d740-ac41-469e-b02d-0fd634ec87c9",
   "metadata": {},
   "outputs": [],
   "source": [
    "def create_happiness_plot(df):\n",
    "    plot = df.hvplot.line(x='Year', y='Life Ladder', by='Country Name', legend='top_left', title='Happiness Plot')\n",
    "    return plot\n",
    "\n",
    "def create_happiness_table(df):\n",
    "    table = df[['Country Name', 'Year', 'Life Ladder']].pipe(pn.widgets.Tabulator, pagination='remote', page_size=10, sizing_mode='stretch_width')\n",
    "    return table\n",
    "\n",
    "def create_happiness_vs_gdp_scatter(df):\n",
    "    scatter_plot = df.hvplot.scatter(x='Log GDP Per Capita', y='Life Ladder', by='Country Name', legend='top_left', title='Happiness vs GDP Scatter Plot')\n",
    "    return scatter_plot\n",
    "\n",
    "def create_happiness_metrics_bar_plot(df):\n",
    "    metrics_pipeline = create_happiness_metrics_pipeline(df)\n",
    "    bar_plot = metrics_pipeline.hvplot.bar(x='Country Name', y=['Social Support', 'Freedom To Make Life Choices', 'Generosity'],\n",
    "                                           title='Happiness Metrics by Country', width=700, height=400)\n",
    "    return bar_plot\n",
    "\n",
    "def create_happiness_metrics_pipeline(df):\n",
    "    pipeline = df.groupby(['Country Name', 'Year']).agg({\n",
    "        'Life Ladder': 'mean',\n",
    "        'Log GDP Per Capita': 'mean',\n",
    "        'Social Support': 'mean',\n",
    "        'Healthy Life Expectancy At Birth': 'mean',\n",
    "        'Freedom To Make Life Choices': 'mean',\n",
    "        'Generosity': 'mean',\n",
    "        'Perceptions Of Corruption': 'mean',\n",
    "        'Positive Affect': 'mean',\n",
    "        'Negative Affect': 'mean',\n",
    "        'Confidence In National Government': 'mean'\n",
    "    }).reset_index()\n",
    "    return pipeline\n"
   ]
  },
  {
   "cell_type": "code",
   "execution_count": 23,
   "id": "4ed33670-7572-499e-be60-fe3f054ad37e",
   "metadata": {},
   "outputs": [
    {
     "data": {
      "text/plain": [
       "Watcher(inst=Select(name='Regional Indicator', options=['South Asia', ...], value='South Asia'), cls=<class 'panel.widgets.select.Select'>, fn=<function update_plots at 0x000002591CA2C550>, mode='args', onlychanged=True, parameter_names=('value',), what='value', queued=False, precedence=0)"
      ]
     },
     "execution_count": 23,
     "metadata": {},
     "output_type": "execute_result"
    }
   ],
   "source": [
    "# Year slider widget\n",
    "year_slider = pn.widgets.IntSlider(name='Year', start=df['Year'].min(), end=df['Year'].max(), step=1, value=df['Year'].min())\n",
    "\n",
    "# Regional indicator selector widget\n",
    "regions = df['Regional Indicator'].unique()\n",
    "region_selector = pn.widgets.Select(name='Regional Indicator', options=list(regions), value=regions[0])\n",
    "\n",
    "# Callback function to update plots based on year and region\n",
    "def update_plots(event):\n",
    "    year = year_slider.value\n",
    "    region = region_selector.value\n",
    "    \n",
    "    # Filter dataframe based on selected year and region\n",
    "    filtered_df = df[(df['Year'] == year) & (df['Regional Indicator'] == region)]\n",
    "    \n",
    "    # Update plots\n",
    "    happiness_plot.object = create_happiness_plot(filtered_df)\n",
    "    happiness_table.object = create_happiness_table(filtered_df)\n",
    "    happiness_vs_gdp_scatter.object = create_happiness_vs_gdp_scatter(filtered_df)\n",
    "    happiness_metrics_bar_plot.object = create_happiness_metrics_bar_plot(filtered_df)\n",
    "\n",
    "# Link callback to slider and selector events\n",
    "year_slider.param.watch(update_plots, 'value')\n",
    "region_selector.param.watch(update_plots, 'value')\n"
   ]
  },
  {
   "cell_type": "code",
   "execution_count": 24,
   "id": "8fca6170-6ce7-404d-bf89-6794f7f76497",
   "metadata": {},
   "outputs": [],
   "source": [
    "# Initialize with data for the initial year and region\n",
    "initial_year = year_slider.value\n",
    "initial_region = region_selector.value\n",
    "filtered_df = df[(df['Year'] == initial_year) & (df['Regional Indicator'] == initial_region)]\n",
    "\n",
    "# Initialize plots\n",
    "happiness_plot = create_happiness_plot(filtered_df)\n",
    "happiness_table = create_happiness_table(filtered_df)\n",
    "happiness_vs_gdp_scatter = create_happiness_vs_gdp_scatter(filtered_df)\n",
    "happiness_metrics_bar_plot = create_happiness_metrics_bar_plot(filtered_df)\n"
   ]
  },
  {
   "cell_type": "code",
   "execution_count": 25,
   "id": "9247d33d-51b0-4903-9a9d-ca711b63fd7c",
   "metadata": {},
   "outputs": [],
   "source": [
    "# Sidebar with widgets\n",
    "sidebar = pn.Column(\n",
    "    year_slider,\n",
    "    region_selector\n",
    ")\n",
    "\n",
    "# Main section with plots\n",
    "main_section = pn.Column(\n",
    "    pn.Row(happiness_plot, happiness_table),\n",
    "    pn.Row(happiness_vs_gdp_scatter, happiness_metrics_bar_plot)\n",
    ")\n",
    "\n",
    "# Combine sidebar and main section into a Panel layout\n",
    "dashboard = pn.Column(\n",
    "    pn.Row(\n",
    "        sidebar,\n",
    "        main_section\n",
    "    )\n",
    ")\n"
   ]
  },
  {
   "cell_type": "code",
   "execution_count": 26,
   "id": "95fea0ba-7c9a-49b5-b498-62a03ed2b180",
   "metadata": {},
   "outputs": [
    {
     "data": {},
     "metadata": {},
     "output_type": "display_data"
    },
    {
     "data": {},
     "metadata": {},
     "output_type": "display_data"
    },
    {
     "data": {
      "application/vnd.holoviews_exec.v0+json": "",
      "text/html": [
       "<div id='75072'>\n",
       "  <div class=\"bk-root\" id=\"32caa1b8-9b27-4be7-b38c-41a211706c59\" data-root-id=\"75072\"></div>\n",
       "</div>\n",
       "<script type=\"application/javascript\">(function(root) {\n",
       "  function embed_document(root) {\n",
       "    var docs_json = {\"627defe2-19bd-42e7-b10b-c2dfd54365cd\":{\"defs\":[{\"extends\":null,\"module\":null,\"name\":\"ReactiveHTML1\",\"overrides\":[],\"properties\":[]},{\"extends\":null,\"module\":null,\"name\":\"FlexBox1\",\"overrides\":[],\"properties\":[{\"default\":\"flex-start\",\"kind\":null,\"name\":\"align_content\"},{\"default\":\"flex-start\",\"kind\":null,\"name\":\"align_items\"},{\"default\":\"row\",\"kind\":null,\"name\":\"flex_direction\"},{\"default\":\"wrap\",\"kind\":null,\"name\":\"flex_wrap\"},{\"default\":\"flex-start\",\"kind\":null,\"name\":\"justify_content\"}]},{\"extends\":null,\"module\":null,\"name\":\"GridStack1\",\"overrides\":[],\"properties\":[{\"default\":\"warn\",\"kind\":null,\"name\":\"mode\"},{\"default\":null,\"kind\":null,\"name\":\"ncols\"},{\"default\":null,\"kind\":null,\"name\":\"nrows\"},{\"default\":true,\"kind\":null,\"name\":\"allow_resize\"},{\"default\":true,\"kind\":null,\"name\":\"allow_drag\"},{\"default\":[],\"kind\":null,\"name\":\"state\"}]},{\"extends\":null,\"module\":null,\"name\":\"click1\",\"overrides\":[],\"properties\":[{\"default\":\"\",\"kind\":null,\"name\":\"terminal_output\"},{\"default\":\"\",\"kind\":null,\"name\":\"debug_name\"},{\"default\":0,\"kind\":null,\"name\":\"clears\"}]},{\"extends\":null,\"module\":null,\"name\":\"NotificationAreaBase1\",\"overrides\":[],\"properties\":[{\"default\":\"bottom-right\",\"kind\":null,\"name\":\"position\"},{\"default\":0,\"kind\":null,\"name\":\"_clear\"}]},{\"extends\":null,\"module\":null,\"name\":\"NotificationArea1\",\"overrides\":[],\"properties\":[{\"default\":[],\"kind\":null,\"name\":\"notifications\"},{\"default\":\"bottom-right\",\"kind\":null,\"name\":\"position\"},{\"default\":0,\"kind\":null,\"name\":\"_clear\"},{\"default\":[{\"background\":\"#ffc107\",\"icon\":{\"className\":\"fas fa-exclamation-triangle\",\"color\":\"white\",\"tagName\":\"i\"},\"type\":\"warning\"},{\"background\":\"#007bff\",\"icon\":{\"className\":\"fas fa-info-circle\",\"color\":\"white\",\"tagName\":\"i\"},\"type\":\"info\"}],\"kind\":null,\"name\":\"types\"}]},{\"extends\":null,\"module\":null,\"name\":\"Notification\",\"overrides\":[],\"properties\":[{\"default\":null,\"kind\":null,\"name\":\"background\"},{\"default\":3000,\"kind\":null,\"name\":\"duration\"},{\"default\":null,\"kind\":null,\"name\":\"icon\"},{\"default\":\"\",\"kind\":null,\"name\":\"message\"},{\"default\":null,\"kind\":null,\"name\":\"notification_type\"},{\"default\":false,\"kind\":null,\"name\":\"_destroyed\"}]},{\"extends\":null,\"module\":null,\"name\":\"TemplateActions1\",\"overrides\":[],\"properties\":[{\"default\":0,\"kind\":null,\"name\":\"open_modal\"},{\"default\":0,\"kind\":null,\"name\":\"close_modal\"}]},{\"extends\":null,\"module\":null,\"name\":\"MaterialTemplateActions1\",\"overrides\":[],\"properties\":[{\"default\":0,\"kind\":null,\"name\":\"open_modal\"},{\"default\":0,\"kind\":null,\"name\":\"close_modal\"}]}],\"roots\":{\"references\":[{\"attributes\":{},\"id\":\"75324\",\"type\":\"UnionRenderers\"},{\"attributes\":{\"factors\":[\"Social Support\",\"Freedom To Make Life Choices\",\"Generosity\"],\"palette\":[\"#30a2da\",\"#fc4f30\",\"#e5ae38\"]},\"id\":\"75285\",\"type\":\"CategoricalColorMapper\"},{\"attributes\":{},\"id\":\"75312\",\"type\":\"UnionRenderers\"},{\"attributes\":{},\"id\":\"75114\",\"type\":\"AllLabels\"},{\"attributes\":{\"coordinates\":null,\"data_source\":{\"id\":\"75218\"},\"glyph\":{\"id\":\"75221\"},\"group\":null,\"hover_glyph\":null,\"muted_glyph\":{\"id\":\"75223\"},\"nonselection_glyph\":{\"id\":\"75222\"},\"selection_glyph\":{\"id\":\"75238\"},\"view\":{\"id\":\"75225\"}},\"id\":\"75224\",\"type\":\"GlyphRenderer\"},{\"attributes\":{},\"id\":\"75187\",\"type\":\"LinearScale\"},{\"attributes\":{\"line_color\":\"#30a2da\",\"line_width\":2,\"x\":{\"field\":\"Year\"},\"y\":{\"field\":\"Life Ladder\"}},\"id\":\"75121\",\"type\":\"Line\"},{\"attributes\":{},\"id\":\"75213\",\"type\":\"BasicTickFormatter\"},{\"attributes\":{\"data\":{\"Country_Name\":[\"Pakistan\"],\"Life Ladder\":{\"__ndarray__\":\"Ba4HoAzmFEA=\",\"dtype\":\"float64\",\"order\":\"little\",\"shape\":[1]},\"Life_Ladder\":{\"__ndarray__\":\"Ba4HoAzmFEA=\",\"dtype\":\"float64\",\"order\":\"little\",\"shape\":[1]},\"Year\":[2005]},\"selected\":{\"id\":\"75119\"},\"selection_policy\":{\"id\":\"75133\"}},\"id\":\"75118\",\"type\":\"ColumnDataSource\"},{\"attributes\":{\"source\":{\"id\":\"75218\"}},\"id\":\"75225\",\"type\":\"CDSView\"},{\"attributes\":{\"fill_alpha\":{\"value\":0.2},\"fill_color\":{\"value\":\"#30a2da\"},\"hatch_alpha\":{\"value\":0.2},\"hatch_color\":{\"value\":\"#30a2da\"},\"line_alpha\":{\"value\":0.2},\"line_color\":{\"value\":\"#30a2da\"},\"size\":{\"value\":5.477225575051661},\"x\":{\"field\":\"Log GDP Per Capita\"},\"y\":{\"field\":\"Life Ladder\"}},\"id\":\"75223\",\"type\":\"Scatter\"},{\"attributes\":{\"end\":0.6339008991999999,\"reset_end\":0.6339008991999999,\"reset_start\":0.0,\"tags\":[[[\"value\",\"value\",null]]]},\"id\":\"75254\",\"type\":\"Range1d\"},{\"attributes\":{\"axis\":{\"id\":\"75095\"},\"coordinates\":null,\"dimension\":1,\"grid_line_color\":null,\"group\":null,\"ticker\":null},\"id\":\"75098\",\"type\":\"Grid\"},{\"attributes\":{\"line_alpha\":0.1,\"line_color\":\"#30a2da\",\"line_width\":2,\"x\":{\"field\":\"Year\"},\"y\":{\"field\":\"Life Ladder\"}},\"id\":\"75122\",\"type\":\"Line\"},{\"attributes\":{\"source\":{\"id\":\"75118\"}},\"id\":\"75125\",\"type\":\"CDSView\"},{\"attributes\":{},\"id\":\"75189\",\"type\":\"LinearScale\"},{\"attributes\":{},\"id\":\"75296\",\"type\":\"CategoricalTickFormatter\"},{\"attributes\":{\"line_alpha\":0.2,\"line_color\":\"#30a2da\",\"line_width\":2,\"x\":{\"field\":\"Year\"},\"y\":{\"field\":\"Life Ladder\"}},\"id\":\"75123\",\"type\":\"Line\"},{\"attributes\":{\"active_drag\":{\"id\":\"75200\"},\"active_scroll\":{\"id\":\"75201\"},\"tools\":[{\"id\":\"75181\"},{\"id\":\"75199\"},{\"id\":\"75200\"},{\"id\":\"75201\"},{\"id\":\"75202\"},{\"id\":\"75203\"}]},\"id\":\"75205\",\"type\":\"Toolbar\"},{\"attributes\":{\"coordinates\":null,\"data_source\":{\"id\":\"75118\"},\"glyph\":{\"id\":\"75121\"},\"group\":null,\"hover_glyph\":null,\"muted_glyph\":{\"id\":\"75123\"},\"nonselection_glyph\":{\"id\":\"75122\"},\"selection_glyph\":{\"id\":\"75138\"},\"view\":{\"id\":\"75125\"}},\"id\":\"75124\",\"type\":\"GlyphRenderer\"},{\"attributes\":{\"coordinates\":null,\"data_source\":{\"id\":\"75286\"},\"glyph\":{\"id\":\"75289\"},\"group\":null,\"hover_glyph\":null,\"muted_glyph\":{\"id\":\"75291\"},\"nonselection_glyph\":{\"id\":\"75290\"},\"selection_glyph\":{\"id\":\"75294\"},\"view\":{\"id\":\"75293\"}},\"id\":\"75292\",\"type\":\"GlyphRenderer\"},{\"attributes\":{\"text_align\":\"right\"},\"id\":\"75166\",\"type\":\"NumberFormatter\"},{\"attributes\":{\"children\":[{\"id\":\"75073\"}],\"margin\":[0,0,0,0],\"name\":\"Column29882\"},\"id\":\"75072\",\"type\":\"Column\"},{\"attributes\":{\"children\":[{\"id\":\"75082\"},{\"id\":\"75176\"}],\"margin\":[0,0,0,0],\"name\":\"Row29862\"},\"id\":\"75078\",\"type\":\"Row\"},{\"attributes\":{\"editor\":{\"id\":\"75157\"},\"field\":\"index\",\"formatter\":{\"id\":\"75155\"},\"title\":\"index\",\"width\":0},\"id\":\"75158\",\"type\":\"TableColumn\"},{\"attributes\":{\"data\":{\"Country_Name\":[\"Pakistan\"],\"Life Ladder\":{\"__ndarray__\":\"Ba4HoAzmFEA=\",\"dtype\":\"float64\",\"order\":\"little\",\"shape\":[1]},\"Life_Ladder\":{\"__ndarray__\":\"Ba4HoAzmFEA=\",\"dtype\":\"float64\",\"order\":\"little\",\"shape\":[1]},\"Log GDP Per Capita\":{\"__ndarray__\":\"xW4CgCGBIEA=\",\"dtype\":\"float64\",\"order\":\"little\",\"shape\":[1]},\"Log_GDP_Per_Capita\":{\"__ndarray__\":\"xW4CgCGBIEA=\",\"dtype\":\"float64\",\"order\":\"little\",\"shape\":[1]}},\"selected\":{\"id\":\"75219\"},\"selection_policy\":{\"id\":\"75233\"}},\"id\":\"75218\",\"type\":\"ColumnDataSource\"},{\"attributes\":{\"overlay\":{\"id\":\"75104\"}},\"id\":\"75102\",\"type\":\"BoxZoomTool\"},{\"attributes\":{\"callback\":null,\"renderers\":[{\"id\":\"75292\"}],\"tags\":[\"hv_created\"],\"tooltips\":[[\"Country Name\",\"@{Country_Name}\"],[\"Variable\",\"@{Variable}\"],[\"value\",\"@{value}\"]]},\"id\":\"75255\",\"type\":\"HoverTool\"},{\"attributes\":{},\"id\":\"75216\",\"type\":\"BasicTickFormatter\"},{\"attributes\":{\"factors\":[[\"Pakistan\",\"Generosity\"],[\"Pakistan\",\"Freedom To Make Life Choices\"],[\"Pakistan\",\"Social Support\"]],\"tags\":[[[\"Country Name\",\"Country Name\",null],[\"Variable\",\"Variable\",null]]]},\"id\":\"75253\",\"type\":\"FactorRange\"},{\"attributes\":{},\"id\":\"75217\",\"type\":\"AllLabels\"},{\"attributes\":{\"editor\":{\"id\":\"75162\"},\"field\":\"Country Name\",\"formatter\":{\"id\":\"75161\"},\"title\":\"Country Name\",\"width\":0},\"id\":\"75163\",\"type\":\"TableColumn\"},{\"attributes\":{\"below\":[{\"id\":\"75265\"}],\"center\":[{\"id\":\"75267\"},{\"id\":\"75271\"}],\"height\":400,\"left\":[{\"id\":\"75268\"}],\"margin\":[5,5,5,5],\"min_border_bottom\":10,\"min_border_left\":10,\"min_border_right\":10,\"min_border_top\":10,\"renderers\":[{\"id\":\"75292\"}],\"sizing_mode\":\"fixed\",\"title\":{\"id\":\"75257\"},\"toolbar\":{\"id\":\"75278\"},\"width\":700,\"x_range\":{\"id\":\"75253\"},\"x_scale\":{\"id\":\"75261\"},\"y_range\":{\"id\":\"75254\"},\"y_scale\":{\"id\":\"75263\"}},\"id\":\"75256\",\"subtype\":\"Figure\",\"type\":\"Plot\"},{\"attributes\":{},\"id\":\"75119\",\"type\":\"Selection\"},{\"attributes\":{},\"id\":\"75089\",\"type\":\"LinearScale\"},{\"attributes\":{\"coordinates\":null,\"group\":null,\"text\":\"Happiness Metrics by Country\",\"text_color\":\"black\",\"text_font_size\":\"12pt\"},\"id\":\"75257\",\"type\":\"Title\"},{\"attributes\":{\"axis_label\":\"Life Ladder\",\"coordinates\":null,\"formatter\":{\"id\":\"75116\"},\"group\":null,\"major_label_policy\":{\"id\":\"75117\"},\"ticker\":{\"id\":\"75096\"}},\"id\":\"75095\",\"type\":\"LinearAxis\"},{\"attributes\":{},\"id\":\"75300\",\"type\":\"AllLabels\"},{\"attributes\":{\"line_color\":\"#30a2da\",\"line_width\":2,\"x\":{\"field\":\"Year\"},\"y\":{\"field\":\"Life Ladder\"}},\"id\":\"75138\",\"type\":\"Line\"},{\"attributes\":{\"axis_label\":\"Country Name, Variable\",\"coordinates\":null,\"formatter\":{\"id\":\"75296\"},\"group\":null,\"major_label_policy\":{\"id\":\"75297\"},\"ticker\":{\"id\":\"75266\"}},\"id\":\"75265\",\"type\":\"CategoricalAxis\"},{\"attributes\":{},\"id\":\"75103\",\"type\":\"ResetTool\"},{\"attributes\":{\"fill_color\":{\"value\":\"#30a2da\"},\"hatch_color\":{\"value\":\"#30a2da\"},\"line_color\":{\"value\":\"#30a2da\"},\"size\":{\"value\":5.477225575051661},\"x\":{\"field\":\"Log GDP Per Capita\"},\"y\":{\"field\":\"Life Ladder\"}},\"id\":\"75221\",\"type\":\"Scatter\"},{\"attributes\":{\"children\":[{\"id\":\"75074\"},{\"id\":\"75077\"}],\"margin\":[0,0,0,0],\"name\":\"Row29881\"},\"id\":\"75073\",\"type\":\"Row\"},{\"attributes\":{},\"id\":\"75263\",\"type\":\"LinearScale\"},{\"attributes\":{\"fill_alpha\":{\"value\":0.1},\"fill_color\":{\"value\":\"#30a2da\"},\"hatch_alpha\":{\"value\":0.1},\"hatch_color\":{\"value\":\"#30a2da\"},\"line_alpha\":{\"value\":0.1},\"line_color\":{\"value\":\"#30a2da\"},\"size\":{\"value\":5.477225575051661},\"x\":{\"field\":\"Log GDP Per Capita\"},\"y\":{\"field\":\"Life Ladder\"}},\"id\":\"75222\",\"type\":\"Scatter\"},{\"attributes\":{},\"id\":\"75162\",\"type\":\"StringEditor\"},{\"attributes\":{},\"id\":\"75087\",\"type\":\"LinearScale\"},{\"attributes\":{},\"id\":\"75219\",\"type\":\"Selection\"},{\"attributes\":{\"children\":[{\"id\":\"75075\"},{\"id\":\"75076\"}],\"margin\":[0,0,0,0],\"name\":\"Column29853\"},\"id\":\"75074\",\"type\":\"Column\"},{\"attributes\":{\"fill_alpha\":{\"value\":0.1},\"fill_color\":{\"field\":\"Variable\",\"transform\":{\"id\":\"75285\"}},\"hatch_alpha\":{\"value\":0.1},\"hatch_color\":{\"field\":\"Variable\",\"transform\":{\"id\":\"75285\"}},\"line_alpha\":{\"value\":0.1},\"top\":{\"field\":\"value\"},\"width\":{\"value\":0.8},\"x\":{\"field\":\"xoffsets\"}},\"id\":\"75290\",\"type\":\"VBar\"},{\"attributes\":{\"axis\":{\"id\":\"75091\"},\"coordinates\":null,\"grid_line_color\":null,\"group\":null,\"ticker\":null},\"id\":\"75094\",\"type\":\"Grid\"},{\"attributes\":{},\"id\":\"75167\",\"type\":\"IntEditor\"},{\"attributes\":{},\"id\":\"75096\",\"type\":\"BasicTicker\"},{\"attributes\":{\"bottom\":{\"value\":0},\"fill_alpha\":{\"value\":1.0},\"fill_color\":{\"field\":\"Variable\",\"transform\":{\"id\":\"75285\"}},\"hatch_alpha\":{\"value\":1.0},\"hatch_color\":{\"field\":\"Variable\",\"transform\":{\"id\":\"75285\"}},\"hatch_scale\":{\"value\":12.0},\"hatch_weight\":{\"value\":1.0},\"line_alpha\":{\"value\":1.0},\"line_cap\":{\"value\":\"butt\"},\"line_color\":{\"value\":\"black\"},\"line_dash\":{\"value\":[]},\"line_dash_offset\":{\"value\":0},\"line_join\":{\"value\":\"bevel\"},\"line_width\":{\"value\":1},\"top\":{\"field\":\"value\"},\"width\":{\"value\":0.8},\"x\":{\"field\":\"xoffsets\"}},\"id\":\"75294\",\"type\":\"VBar\"},{\"attributes\":{\"coordinates\":null,\"group\":null,\"text\":\"Happiness Plot\",\"text_color\":\"black\",\"text_font_size\":\"12pt\"},\"id\":\"75083\",\"type\":\"Title\"},{\"attributes\":{\"margin\":[5,10,5,10],\"options\":[\"South Asia\",\"Central and Eastern Europe\",\"Middle East and North Africa\",\"nan\",\"Latin America and Caribbean\",\"Commonwealth of Independent States\",\"North America and ANZ\",\"Western Europe\",\"Sub-Saharan Africa\",\"Southeast Asia\",\"East Asia\"],\"title\":\"Regional Indicator\",\"value\":\"South Asia\"},\"id\":\"75076\",\"type\":\"panel.models.widgets.CustomSelect\"},{\"attributes\":{\"editor\":{\"id\":\"75167\"},\"field\":\"Year\",\"formatter\":{\"id\":\"75166\"},\"title\":\"Year\",\"width\":0},\"id\":\"75168\",\"type\":\"TableColumn\"},{\"attributes\":{\"bottom_units\":\"screen\",\"coordinates\":null,\"fill_alpha\":0.5,\"fill_color\":\"lightgrey\",\"group\":null,\"left_units\":\"screen\",\"level\":\"overlay\",\"line_alpha\":1.0,\"line_color\":\"black\",\"line_dash\":[4,4],\"line_width\":2,\"right_units\":\"screen\",\"syncable\":false,\"top_units\":\"screen\"},\"id\":\"75104\",\"type\":\"BoxAnnotation\"},{\"attributes\":{},\"id\":\"75161\",\"type\":\"StringFormatter\"},{\"attributes\":{\"indices\":[]},\"id\":\"75154\",\"type\":\"Selection\"},{\"attributes\":{\"axis\":{\"id\":\"75265\"},\"coordinates\":null,\"grid_line_color\":null,\"group\":null,\"ticker\":null},\"id\":\"75267\",\"type\":\"Grid\"},{\"attributes\":{\"source\":{\"id\":\"75286\"}},\"id\":\"75293\",\"type\":\"CDSView\"},{\"attributes\":{},\"id\":\"75273\",\"type\":\"PanTool\"},{\"attributes\":{},\"id\":\"75266\",\"type\":\"CategoricalTicker\"},{\"attributes\":{\"below\":[{\"id\":\"75091\"}],\"center\":[{\"id\":\"75094\"},{\"id\":\"75098\"},{\"id\":\"75136\"}],\"height\":300,\"left\":[{\"id\":\"75095\"}],\"margin\":[5,5,5,5],\"min_border_bottom\":10,\"min_border_left\":10,\"min_border_right\":10,\"min_border_top\":10,\"renderers\":[{\"id\":\"75124\"}],\"sizing_mode\":\"fixed\",\"title\":{\"id\":\"75083\"},\"toolbar\":{\"id\":\"75105\"},\"width\":700,\"x_range\":{\"id\":\"75079\"},\"x_scale\":{\"id\":\"75087\"},\"y_range\":{\"id\":\"75080\"},\"y_scale\":{\"id\":\"75089\"}},\"id\":\"75082\",\"subtype\":\"Figure\",\"type\":\"Plot\"},{\"attributes\":{\"format\":\"0,0.0[00000]\",\"text_align\":\"right\"},\"id\":\"75171\",\"type\":\"NumberFormatter\"},{\"attributes\":{\"data\":{\"Country Name\":[\"Pakistan\"],\"Life Ladder\":{\"__ndarray__\":\"Ba4HoAzmFEA=\",\"dtype\":\"float64\",\"order\":\"little\",\"shape\":[1]},\"Year\":[2005],\"index\":[1486]},\"selected\":{\"id\":\"75154\"},\"selection_policy\":{\"id\":\"75324\"}},\"id\":\"75153\",\"type\":\"ColumnDataSource\"},{\"attributes\":{\"coordinates\":null,\"group\":null,\"items\":[]},\"id\":\"75136\",\"type\":\"Legend\"},{\"attributes\":{\"fill_color\":{\"field\":\"Variable\",\"transform\":{\"id\":\"75285\"}},\"hatch_color\":{\"field\":\"Variable\",\"transform\":{\"id\":\"75285\"}},\"top\":{\"field\":\"value\"},\"width\":{\"value\":0.8},\"x\":{\"field\":\"xoffsets\"}},\"id\":\"75289\",\"type\":\"VBar\"},{\"attributes\":{\"axis_label\":\"\",\"coordinates\":null,\"formatter\":{\"id\":\"75299\"},\"group\":null,\"major_label_policy\":{\"id\":\"75300\"},\"ticker\":{\"id\":\"75269\"}},\"id\":\"75268\",\"type\":\"LinearAxis\"},{\"attributes\":{\"end\":6.424657536,\"reset_end\":6.424657536,\"reset_start\":4.024657535999999,\"start\":4.024657535999999,\"tags\":[[[\"Life Ladder\",\"Life Ladder\",null]]]},\"id\":\"75080\",\"type\":\"Range1d\"},{\"attributes\":{},\"id\":\"75172\",\"type\":\"NumberEditor\"},{\"attributes\":{},\"id\":\"75113\",\"type\":\"BasicTickFormatter\"},{\"attributes\":{\"angle\":{\"value\":0.0},\"fill_alpha\":{\"value\":1.0},\"fill_color\":{\"value\":\"#30a2da\"},\"hatch_alpha\":{\"value\":1.0},\"hatch_color\":{\"value\":\"#30a2da\"},\"hatch_scale\":{\"value\":12.0},\"hatch_weight\":{\"value\":1.0},\"line_alpha\":{\"value\":1.0},\"line_cap\":{\"value\":\"butt\"},\"line_color\":{\"value\":\"#30a2da\"},\"line_dash\":{\"value\":[]},\"line_dash_offset\":{\"value\":0},\"line_join\":{\"value\":\"bevel\"},\"line_width\":{\"value\":1},\"marker\":{\"value\":\"circle\"},\"size\":{\"value\":5.477225575051661},\"x\":{\"field\":\"Log GDP Per Capita\"},\"y\":{\"field\":\"Life Ladder\"}},\"id\":\"75238\",\"type\":\"Scatter\"},{\"attributes\":{\"axis\":{\"id\":\"75268\"},\"coordinates\":null,\"dimension\":1,\"grid_line_color\":null,\"group\":null,\"ticker\":null},\"id\":\"75271\",\"type\":\"Grid\"},{\"attributes\":{},\"id\":\"75269\",\"type\":\"BasicTicker\"},{\"attributes\":{\"callback\":null,\"renderers\":[{\"id\":\"75224\"}],\"tags\":[\"hv_created\"],\"tooltips\":[[\"Country Name\",\"@{Country_Name}\"],[\"Log GDP Per Capita\",\"@{Log_GDP_Per_Capita}\"],[\"Life Ladder\",\"@{Life_Ladder}\"]]},\"id\":\"75181\",\"type\":\"HoverTool\"},{\"attributes\":{},\"id\":\"75274\",\"type\":\"WheelZoomTool\"},{\"attributes\":{\"reload\":false},\"id\":\"75508\",\"type\":\"panel.models.location.Location\"},{\"attributes\":{\"below\":[{\"id\":\"75191\"}],\"center\":[{\"id\":\"75194\"},{\"id\":\"75198\"},{\"id\":\"75236\"}],\"height\":300,\"left\":[{\"id\":\"75195\"}],\"margin\":[5,5,5,5],\"min_border_bottom\":10,\"min_border_left\":10,\"min_border_right\":10,\"min_border_top\":10,\"renderers\":[{\"id\":\"75224\"}],\"sizing_mode\":\"fixed\",\"title\":{\"id\":\"75183\"},\"toolbar\":{\"id\":\"75205\"},\"width\":700,\"x_range\":{\"id\":\"75179\"},\"x_scale\":{\"id\":\"75187\"},\"y_range\":{\"id\":\"75080\"},\"y_scale\":{\"id\":\"75189\"}},\"id\":\"75182\",\"subtype\":\"Figure\",\"type\":\"Plot\"},{\"attributes\":{\"end\":2006.0,\"reset_end\":2006.0,\"reset_start\":2004.0,\"start\":2004.0,\"tags\":[[[\"Year\",\"Year\",null]]]},\"id\":\"75079\",\"type\":\"Range1d\"},{\"attributes\":{\"editor\":{\"id\":\"75172\"},\"field\":\"Life Ladder\",\"formatter\":{\"id\":\"75171\"},\"title\":\"Life Ladder\",\"width\":0},\"id\":\"75173\",\"type\":\"TableColumn\"},{\"attributes\":{},\"id\":\"75157\",\"type\":\"CellEditor\"},{\"attributes\":{},\"id\":\"75272\",\"type\":\"SaveTool\"},{\"attributes\":{},\"id\":\"75233\",\"type\":\"UnionRenderers\"},{\"attributes\":{\"callback\":null,\"renderers\":[{\"id\":\"75124\"}],\"tags\":[\"hv_created\"],\"tooltips\":[[\"Country Name\",\"@{Country_Name}\"],[\"Year\",\"@{Year}\"],[\"Life Ladder\",\"@{Life_Ladder}\"]]},\"id\":\"75081\",\"type\":\"HoverTool\"},{\"attributes\":{\"overlay\":{\"id\":\"75277\"}},\"id\":\"75275\",\"type\":\"BoxZoomTool\"},{\"attributes\":{},\"id\":\"75092\",\"type\":\"BasicTicker\"},{\"attributes\":{\"coordinates\":null,\"group\":null,\"text\":\"Happiness vs GDP Scatter Plot\",\"text_color\":\"black\",\"text_font_size\":\"12pt\"},\"id\":\"75183\",\"type\":\"Title\"},{\"attributes\":{},\"id\":\"75299\",\"type\":\"BasicTickFormatter\"},{\"attributes\":{},\"id\":\"75276\",\"type\":\"ResetTool\"},{\"attributes\":{\"click_policy\":\"mute\",\"coordinates\":null,\"group\":null,\"items\":[{\"id\":\"75237\"}],\"location\":\"top_left\",\"title\":\"Country Name\"},\"id\":\"75236\",\"type\":\"Legend\"},{\"attributes\":{\"active_drag\":{\"id\":\"75100\"},\"active_scroll\":{\"id\":\"75101\"},\"tools\":[{\"id\":\"75081\"},{\"id\":\"75099\"},{\"id\":\"75100\"},{\"id\":\"75101\"},{\"id\":\"75102\"},{\"id\":\"75103\"}]},\"id\":\"75105\",\"type\":\"Toolbar\"},{\"attributes\":{},\"id\":\"75214\",\"type\":\"AllLabels\"},{\"attributes\":{\"bottom_units\":\"screen\",\"coordinates\":null,\"fill_alpha\":0.5,\"fill_color\":\"lightgrey\",\"group\":null,\"left_units\":\"screen\",\"level\":\"overlay\",\"line_alpha\":1.0,\"line_color\":\"black\",\"line_dash\":[4,4],\"line_width\":2,\"right_units\":\"screen\",\"syncable\":false,\"top_units\":\"screen\"},\"id\":\"75277\",\"type\":\"BoxAnnotation\"},{\"attributes\":{\"axis_label\":\"Year\",\"coordinates\":null,\"formatter\":{\"id\":\"75113\"},\"group\":null,\"major_label_policy\":{\"id\":\"75114\"},\"ticker\":{\"id\":\"75092\"}},\"id\":\"75091\",\"type\":\"LinearAxis\"},{\"attributes\":{\"axis_label\":\"Log GDP Per Capita\",\"coordinates\":null,\"formatter\":{\"id\":\"75213\"},\"group\":null,\"major_label_policy\":{\"id\":\"75214\"},\"ticker\":{\"id\":\"75192\"}},\"id\":\"75191\",\"type\":\"LinearAxis\"},{\"attributes\":{},\"id\":\"75297\",\"type\":\"AllLabels\"},{\"attributes\":{},\"id\":\"75192\",\"type\":\"BasicTicker\"},{\"attributes\":{\"data\":{\"Country_Name\":[\"Pakistan\",\"Pakistan\",\"Pakistan\"],\"Variable\":[\"Social Support\",\"Freedom To Make Life Choices\",\"Generosity\"],\"value\":{\"__ndarray__\":\"Gv8sAAfp4j9FMEMg7SjkPwAAAAAAAPh/\",\"dtype\":\"float64\",\"order\":\"little\",\"shape\":[3]},\"xoffsets\":[[\"Pakistan\",\"Social Support\"],[\"Pakistan\",\"Freedom To Make Life Choices\"],[\"Pakistan\",\"Generosity\"]]},\"selected\":{\"id\":\"75287\"},\"selection_policy\":{\"id\":\"75312\"}},\"id\":\"75286\",\"type\":\"ColumnDataSource\"},{\"attributes\":{},\"id\":\"75200\",\"type\":\"PanTool\"},{\"attributes\":{\"axis\":{\"id\":\"75191\"},\"coordinates\":null,\"grid_line_color\":null,\"group\":null,\"ticker\":null},\"id\":\"75194\",\"type\":\"Grid\"},{\"attributes\":{\"active_drag\":{\"id\":\"75273\"},\"active_scroll\":{\"id\":\"75274\"},\"tools\":[{\"id\":\"75255\"},{\"id\":\"75272\"},{\"id\":\"75273\"},{\"id\":\"75274\"},{\"id\":\"75275\"},{\"id\":\"75276\"}]},\"id\":\"75278\",\"type\":\"Toolbar\"},{\"attributes\":{},\"id\":\"75100\",\"type\":\"PanTool\"},{\"attributes\":{\"end\":2022,\"margin\":[5,10,5,10],\"start\":2005,\"title\":\"Year\",\"value\":2005},\"id\":\"75075\",\"type\":\"Slider\"},{\"attributes\":{\"axis_label\":\"Life Ladder\",\"coordinates\":null,\"formatter\":{\"id\":\"75216\"},\"group\":null,\"major_label_policy\":{\"id\":\"75217\"},\"ticker\":{\"id\":\"75196\"}},\"id\":\"75195\",\"type\":\"LinearAxis\"},{\"attributes\":{\"client_comm_id\":\"3ab3ccf2649a4dedb95f280af99a0255\",\"comm_id\":\"9755798cd72d4f0fa12b2e9af449b18e\",\"plot_id\":\"75072\"},\"id\":\"75411\",\"type\":\"panel.models.comm_manager.CommManager\"},{\"attributes\":{\"axis\":{\"id\":\"75195\"},\"coordinates\":null,\"dimension\":1,\"grid_line_color\":null,\"group\":null,\"ticker\":null},\"id\":\"75198\",\"type\":\"Grid\"},{\"attributes\":{},\"id\":\"75287\",\"type\":\"Selection\"},{\"attributes\":{},\"id\":\"75133\",\"type\":\"UnionRenderers\"},{\"attributes\":{},\"id\":\"75196\",\"type\":\"BasicTicker\"},{\"attributes\":{},\"id\":\"75201\",\"type\":\"WheelZoomTool\"},{\"attributes\":{},\"id\":\"75261\",\"type\":\"CategoricalScale\"},{\"attributes\":{},\"id\":\"75116\",\"type\":\"BasicTickFormatter\"},{\"attributes\":{\"end\":9.337922995714285,\"reset_end\":9.337922995714285,\"reset_start\":7.166494424285714,\"start\":7.166494424285714,\"tags\":[[[\"Log GDP Per Capita\",\"Log GDP Per Capita\",null]]]},\"id\":\"75179\",\"type\":\"Range1d\"},{\"attributes\":{},\"id\":\"75117\",\"type\":\"AllLabels\"},{\"attributes\":{},\"id\":\"75199\",\"type\":\"SaveTool\"},{\"attributes\":{\"label\":{\"value\":\"Pakistan\"},\"renderers\":[{\"id\":\"75224\"}]},\"id\":\"75237\",\"type\":\"LegendItem\"},{\"attributes\":{},\"id\":\"75099\",\"type\":\"SaveTool\"},{\"attributes\":{\"text_align\":\"left\"},\"id\":\"75155\",\"type\":\"NumberFormatter\"},{\"attributes\":{\"columns\":[{\"id\":\"75158\"},{\"id\":\"75163\"},{\"id\":\"75168\"},{\"id\":\"75173\"}],\"configuration\":{\"columns\":[{\"field\":\"index\",\"sorter\":\"number\"},{\"field\":\"Country Name\"},{\"field\":\"Year\",\"sorter\":\"number\"},{\"field\":\"Life Ladder\",\"sorter\":\"number\"}],\"dataTree\":false,\"selectable\":true},\"indexes\":[\"index\"],\"layout\":\"fit_data_table\",\"margin\":[5,10,5,10],\"max_page\":1,\"name\":\"\",\"page\":1,\"page_size\":10,\"pagination\":\"remote\",\"select_mode\":true,\"selectable_rows\":null,\"sizing_mode\":\"stretch_width\",\"source\":{\"id\":\"75153\"},\"styles\":{\"data\":{},\"id\":\"efcaf6c16060440da54d150e80bfc80f\"},\"subscribed_events\":[\"cell-click\",\"table-edit\"],\"theme_url\":\"https://cdn.jsdelivr.net/npm/@holoviz/panel@0.14.3/dist/bundled/datatabulator/tabulator-tables@5.3.2/dist/css/\"},\"id\":\"75176\",\"type\":\"panel.models.tabulator.DataTabulator\"},{\"attributes\":{\"overlay\":{\"id\":\"75204\"}},\"id\":\"75202\",\"type\":\"BoxZoomTool\"},{\"attributes\":{},\"id\":\"75203\",\"type\":\"ResetTool\"},{\"attributes\":{\"children\":[{\"id\":\"75182\"},{\"id\":\"75256\"}],\"margin\":[0,0,0,0],\"name\":\"Row29879\"},\"id\":\"75178\",\"type\":\"Row\"},{\"attributes\":{\"fill_alpha\":{\"value\":0.2},\"fill_color\":{\"field\":\"Variable\",\"transform\":{\"id\":\"75285\"}},\"hatch_alpha\":{\"value\":0.2},\"hatch_color\":{\"field\":\"Variable\",\"transform\":{\"id\":\"75285\"}},\"line_alpha\":{\"value\":0.2},\"top\":{\"field\":\"value\"},\"width\":{\"value\":0.8},\"x\":{\"field\":\"xoffsets\"}},\"id\":\"75291\",\"type\":\"VBar\"},{\"attributes\":{\"bottom_units\":\"screen\",\"coordinates\":null,\"fill_alpha\":0.5,\"fill_color\":\"lightgrey\",\"group\":null,\"left_units\":\"screen\",\"level\":\"overlay\",\"line_alpha\":1.0,\"line_color\":\"black\",\"line_dash\":[4,4],\"line_width\":2,\"right_units\":\"screen\",\"syncable\":false,\"top_units\":\"screen\"},\"id\":\"75204\",\"type\":\"BoxAnnotation\"},{\"attributes\":{},\"id\":\"75101\",\"type\":\"WheelZoomTool\"},{\"attributes\":{\"children\":[{\"id\":\"75078\"},{\"id\":\"75178\"}],\"margin\":[0,0,0,0],\"name\":\"Column29880\"},\"id\":\"75077\",\"type\":\"Column\"}],\"root_ids\":[\"75072\",\"75411\",\"75508\"]},\"title\":\"Bokeh Application\",\"version\":\"2.4.3\"}};\n",
       "    var render_items = [{\"docid\":\"627defe2-19bd-42e7-b10b-c2dfd54365cd\",\"root_ids\":[\"75072\"],\"roots\":{\"75072\":\"32caa1b8-9b27-4be7-b38c-41a211706c59\"}}];\n",
       "    root.Bokeh.embed.embed_items_notebook(docs_json, render_items);\n",
       "    for (const render_item of render_items) {\n",
       "      for (const root_id of render_item.root_ids) {\n",
       "\tconst id_el = document.getElementById(root_id)\n",
       "\tif (id_el.children.length && (id_el.children[0].className === 'bk-root')) {\n",
       "\t  const root_el = id_el.children[0]\n",
       "\t  root_el.id = root_el.id + '-rendered'\n",
       "\t}\n",
       "      }\n",
       "    }\n",
       "  }\n",
       "  if (root.Bokeh !== undefined && root.Bokeh.Panel !== undefined && ( root['Tabulator'] !== undefined) && ( root['Tabulator'] !== undefined)) {\n",
       "    embed_document(root);\n",
       "  } else {\n",
       "    var attempts = 0;\n",
       "    var timer = setInterval(function(root) {\n",
       "      if (root.Bokeh !== undefined && root.Bokeh.Panel !== undefined && (root['Tabulator'] !== undefined) && (root['Tabulator'] !== undefined)) {\n",
       "        clearInterval(timer);\n",
       "        embed_document(root);\n",
       "      } else if (document.readyState == \"complete\") {\n",
       "        attempts++;\n",
       "        if (attempts > 200) {\n",
       "          clearInterval(timer);\n",
       "          console.log(\"Bokeh: ERROR: Unable to run BokehJS code because BokehJS library is missing\");\n",
       "        }\n",
       "      }\n",
       "    }, 25, root)\n",
       "  }\n",
       "})(window);</script>"
      ],
      "text/plain": [
       "Column\n",
       "    [0] Row\n",
       "        [0] Column\n",
       "            [0] IntSlider(end=2022, name='Year', start=2005, value=2005)\n",
       "            [1] Select(name='Regional Indicator', options=['South Asia', ...], value='South Asia')\n",
       "        [1] Column\n",
       "            [0] Row\n",
       "                [0] HoloViews(NdOverlay, height=300, sizing_mode='fixed', width=700)\n",
       "                [1] Tabulator(page_size=10, pagination='remote', sizing_mode='stretch_width', value=     Country N...)\n",
       "            [1] Row\n",
       "                [0] HoloViews(NdOverlay, height=300, sizing_mode='fixed', width=700)\n",
       "                [1] HoloViews(Bars, height=400, sizing_mode='fixed', width=700)"
      ]
     },
     "execution_count": 26,
     "metadata": {
      "application/vnd.holoviews_exec.v0+json": {
       "id": "75072"
      }
     },
     "output_type": "execute_result"
    }
   ],
   "source": [
    "# Display the dashboard\n",
    "dashboard.servable()\n"
   ]
  },
  {
   "cell_type": "code",
   "execution_count": null,
   "id": "a02cf910-c85b-484c-ad15-529389fa0b89",
   "metadata": {},
   "outputs": [],
   "source": []
  }
 ],
 "metadata": {
  "kernelspec": {
   "display_name": "Python 3 (ipykernel)",
   "language": "python",
   "name": "python3"
  },
  "language_info": {
   "codemirror_mode": {
    "name": "ipython",
    "version": 3
   },
   "file_extension": ".py",
   "mimetype": "text/x-python",
   "name": "python",
   "nbconvert_exporter": "python",
   "pygments_lexer": "ipython3",
   "version": "3.10.9"
  }
 },
 "nbformat": 4,
 "nbformat_minor": 5
}
